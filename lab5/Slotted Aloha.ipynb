{
 "cells": [
  {
   "cell_type": "code",
   "execution_count": 1,
   "metadata": {
    "_cell_guid": "b1076dfc-b9ad-4769-8c92-a6c4dae69d19",
    "_uuid": "8f2839f25d086af736a60e9eeb907d3b93b6e0e5"
   },
   "outputs": [],
   "source": [
    "import random \n",
    "import numpy as np\n",
    "import matplotlib.pyplot as plt"
   ]
  },
  {
   "cell_type": "code",
   "execution_count": 2,
   "metadata": {},
   "outputs": [],
   "source": [
    "#initialising the global variables\n",
    "n = 100\n",
    "timeslots = 1000"
   ]
  },
  {
   "cell_type": "code",
   "execution_count": 3,
   "metadata": {
    "_cell_guid": "79c7e3d0-c299-4dcb-8224-4455121ee9b0",
    "_uuid": "d629ff2d2480ee46fbb7e2d37f6b5fab8052498a"
   },
   "outputs": [],
   "source": [
    "\n",
    "def generate (prob):\n",
    "    \"\"\"\n",
    "    Given the probability, it is going to give either 1 or 0\n",
    "    \"\"\"\n",
    "    x = random.random()\n",
    "    if (x <= prob):\n",
    "        return 1\n",
    "    else:\n",
    "        return 0"
   ]
  },
  {
   "cell_type": "code",
   "execution_count": 4,
   "metadata": {},
   "outputs": [],
   "source": [
    "def simulate (LAMBDA):\n",
    "    \n",
    "    successful_transmissions = 0\n",
    "    for _ in range(timeslots):\n",
    "\n",
    "        packets = []\n",
    "        for _ in range(n):\n",
    "            packets.append(generate(LAMBDA))\n",
    "\n",
    "        total = 0\n",
    "        for i in range(n):\n",
    "            total+=packets[i]\n",
    "        if (total == 1):\n",
    "            successful_transmissions += 1\n",
    "        \n",
    "    return successful_transmissions / timeslots\n",
    "        "
   ]
  },
  {
   "cell_type": "code",
   "execution_count": 5,
   "metadata": {},
   "outputs": [],
   "source": [
    "lambdas = np.linspace (0 , 1 , 100)\n",
    "ans = []\n",
    "for l in lambdas:\n",
    "    ans.append(simulate(l))\n",
    "    "
   ]
  },
  {
   "cell_type": "code",
   "execution_count": 6,
   "metadata": {},
   "outputs": [
    {
     "data": {
      "text/plain": [
       "Text(0, 0.5, 'Througput')"
      ]
     },
     "execution_count": 6,
     "metadata": {},
     "output_type": "execute_result"
    },
    {
     "data": {
      "image/png": "[encoded data removed]",
      "text/plain": [
       "<Figure size 432x288 with 1 Axes>"
      ]
     },
     "metadata": {
      "needs_background": "light"
     },
     "output_type": "display_data"
    }
   ],
   "source": [
    "plt.plot(lambdas , ans )\n",
    "plt.xlabel(\"LAMBDA\")\n",
    "plt.ylabel(\"Througput\")"
   ]
  },
  {
   "cell_type": "markdown",
   "metadata": {},
   "source": [
    "# This is Persistent-CSMA "
   ]
  },
  {
   "cell_type": "code",
   "execution_count": 7,
   "metadata": {},
   "outputs": [],
   "source": [
    "timeslots = 1000\n",
    "n = 10"
   ]
  },
  {
   "cell_type": "code",
   "execution_count": 8,
   "metadata": {},
   "outputs": [],
   "source": [
    "def simulate_2 (LAMBDA , p):\n",
    "    number_of_packets = [0 for _ in range(n)]\n",
    "    busy = 0\n",
    "    successful = 0\n",
    "    for _ in range(timeslots):\n",
    "\n",
    "        #Generate the frames for each user\n",
    "        for u in range(n):\n",
    "            temp = generate(LAMBDA / n)\n",
    "            number_of_packets[u]+= temp\n",
    "\n",
    "        # the channel is free\n",
    "        if (busy == 0):\n",
    "            sending_user = -1\n",
    "            total_ready = 0\n",
    "            for u in range(n):\n",
    "                if (number_of_packets[u] > 0):\n",
    "                    temp = generate(p)\n",
    "                    if (temp == 1):\n",
    "                        sending_user = u\n",
    "                        total_ready += temp\n",
    "\n",
    "            if (total_ready == 1):\n",
    "                busy = 2\n",
    "                number_of_packets[sending_user] -= 1\n",
    "                successful += 1\n",
    "            elif (total_ready > 1):\n",
    "                busy =2\n",
    "\n",
    "        elif (busy != 0):\n",
    "            busy-=1\n",
    "        \n",
    "    return successful / timeslots\n",
    "    "
   ]
  },
  {
   "cell_type": "code",
   "execution_count": 11,
   "metadata": {},
   "outputs": [],
   "source": [
    "lambdas = np.linspace (0 , 1 , 100)\n",
    "ans = []\n",
    "for l in lambdas:\n",
    "    ans.append(simulate_2(l , 0.5))"
   ]
  },
  {
   "cell_type": "code",
   "execution_count": 12,
   "metadata": {},
   "outputs": [
    {
     "data": {
      "text/plain": [
       "Text(0, 0.5, 'Througput')"
      ]
     },
     "execution_count": 12,
     "metadata": {},
     "output_type": "execute_result"
    },
    {
     "data": {
      "image/png": "[encoded data removed]",
      "text/plain": [
       "<Figure size 432x288 with 1 Axes>"
      ]
     },
     "metadata": {
      "needs_background": "light"
     },
     "output_type": "display_data"
    }
   ],
   "source": [
    "plt.plot(lambdas , ans )\n",
    "plt.xlabel(\"LAMBDA\")\n",
    "plt.ylabel(\"Througput\")"
   ]
  },
  {
   "cell_type": "code",
   "execution_count": null,
   "metadata": {},
   "outputs": [],
   "source": []
  }
 ],
 "metadata": {
  "kernelspec": {
   "display_name": "Python 3",
   "language": "python",
   "name": "python3"
  },
  "language_info": {
   "codemirror_mode": {
    "name": "ipython",
    "version": 3
   },
   "file_extension": ".py",
   "mimetype": "text/x-python",
   "name": "python",
   "nbconvert_exporter": "python",
   "pygments_lexer": "ipython3",
   "version": "3.7.3"
  }
 },
 "nbformat": 4,
 "nbformat_minor": 1
}
